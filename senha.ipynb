{
 "cells": [
  {
   "cell_type": "code",
   "execution_count": 1,
   "metadata": {},
   "outputs": [],
   "source": [
    "from random import randint, choice\n",
    "import string\n",
    "\n",
    "def safesenhas(size):\n",
    "    \n",
    "    if size < 8:\n",
    "        raise Exception(\"Tamanho da senha deve ser maior ou igual a 8\")\n",
    "    senha = []\n",
    "    print(type(senha))\n",
    "    low_alphabet = list(string.ascii_lowercase)\n",
    "    print(type(low_alphabet))\n",
    "    upper_alphabet = list(string.ascii_uppercase)\n",
    "    print(type(upper_alphabet))\n",
    "    characters = list('#$%&\\'()*+,-./:;<=>?@')\n",
    "    print(type(characters))\n",
    "    numbers = [i for i in range(10)]\n",
    "    print(type(characters))\n",
    "    for i in range(size):\n",
    "        turn = choice(['low','upper','number','chara'])\n",
    "        if turn == 'low':\n",
    "            senha.append(choice(low_alphabet))\n",
    "        elif turn == 'upper':\n",
    "            senha.append(choice(upper_alphabet))\n",
    "        elif turn == 'number':\n",
    "            senha.append(choice(numbers))\n",
    "        else:\n",
    "            senha.append(choice(characters))\n",
    "    if not any(isinstance(n, int) for n in senha):\n",
    "        raise Exception(\"A senha deve ter pelo menos um número\")\n",
    "    if len(senha) != len(set(senha)):\n",
    "        print(\"Senha contém caracteres repetidos\")\n",
    "    return senha"
   ]
  },
  {
   "cell_type": "code",
   "execution_count": 2,
   "metadata": {},
   "outputs": [
    {
     "name": "stdout",
     "output_type": "stream",
     "text": [
      "<class 'list'>\n",
      "<class 'list'>\n",
      "<class 'list'>\n",
      "<class 'list'>\n",
      "<class 'list'>\n"
     ]
    },
    {
     "data": {
      "text/plain": [
       "['h', 'u', '<', 0, '&', 'A', '%', 'y', 'm']"
      ]
     },
     "execution_count": 2,
     "metadata": {},
     "output_type": "execute_result"
    }
   ],
   "source": [
    "safesenhas(9)"
   ]
  },
  {
   "cell_type": "code",
   "execution_count": 5,
   "metadata": {},
   "outputs": [],
   "source": [
    "from random import randint, choice\n",
    "import string\n",
    "\n",
    "def safesenhas(size):\n",
    "    \n",
    "    if size < 4:\n",
    "        raise Exception(\"Tamanho da senha deve ser maior ou igual a 8\")\n",
    "    senha = []\n",
    "    low_alphabet = list(string.ascii_lowercase)\n",
    "    upper_alphabet = list(string.ascii_uppercase)\n",
    "    characters = list('#$%&\\'()*+,-./:;<=>?@')\n",
    "    numbers = [i for i in range(10)]\n",
    "    for i in range(size):\n",
    "        turn = choice(['low','upper','number','chara'])\n",
    "        if turn == 'low':\n",
    "            senha.append(choice(low_alphabet))\n",
    "        elif turn == 'upper':\n",
    "            senha.append(choice(upper_alphabet))\n",
    "        elif turn == 'number':\n",
    "            senha.append(choice(numbers))\n",
    "        else:\n",
    "            senha.append(choice(characters))\n",
    "    \n",
    "    if not any(isinstance(n, int) for n in senha):\n",
    "        raise Exception(\"A senha deve ter pelo menos um número\")\n",
    "    has_lowercase = False\n",
    "    has_uppercase = False\n",
    "    for c in senha:\n",
    "        if c in low_alphabet:\n",
    "            has_lowercase = True\n",
    "        elif c in upper_alphabet:\n",
    "            has_uppercase = True\n",
    "    \n",
    "    if not (has_lowercase and has_uppercase):\n",
    "        raise Exception(\"A senha deve conter pelo menos uma letra minúscula e uma letra maiúscula\")\n",
    "    if len(senha) != len(set(senha)):\n",
    "        print(\"Senha contém caracteres repetidos\")\n",
    "    for i in range(2, size):        \n",
    "       if isinstance(senha[i], int) and isinstance(senha[i-1], int) and isinstance(senha[i-2], int):\n",
    "        raise Exception(\"Senha não pode conter sequência de números\")\n",
    "       if isinstance(senha[i], str) and isinstance(senha[i-1], str) and isinstance(senha[i-2], str):\n",
    "        raise Exception(\"Senha não pode conter sequência de letras\")\n",
    "    return senha"
   ]
  },
  {
   "cell_type": "code",
   "execution_count": 6,
   "metadata": {},
   "outputs": [
    {
     "name": "stdout",
     "output_type": "stream",
     "text": [
      "Senha contém caracteres repetidos\n"
     ]
    },
    {
     "ename": "Exception",
     "evalue": "Senha não pode conter sequência de letras",
     "output_type": "error",
     "traceback": [
      "\u001b[1;31m---------------------------------------------------------------------------\u001b[0m",
      "\u001b[1;31mException\u001b[0m                                 Traceback (most recent call last)",
      "Cell \u001b[1;32mIn[6], line 1\u001b[0m\n\u001b[1;32m----> 1\u001b[0m \u001b[43msafesenhas\u001b[49m\u001b[43m(\u001b[49m\u001b[38;5;241;43m10\u001b[39;49m\u001b[43m)\u001b[49m\n",
      "Cell \u001b[1;32mIn[5], line 42\u001b[0m, in \u001b[0;36msafesenhas\u001b[1;34m(size)\u001b[0m\n\u001b[0;32m     40\u001b[0m     \u001b[38;5;28;01mraise\u001b[39;00m \u001b[38;5;167;01mException\u001b[39;00m(\u001b[38;5;124m\"\u001b[39m\u001b[38;5;124mSenha não pode conter sequência de números\u001b[39m\u001b[38;5;124m\"\u001b[39m)\n\u001b[0;32m     41\u001b[0m    \u001b[38;5;28;01mif\u001b[39;00m \u001b[38;5;28misinstance\u001b[39m(senha[i], \u001b[38;5;28mstr\u001b[39m) \u001b[38;5;129;01mand\u001b[39;00m \u001b[38;5;28misinstance\u001b[39m(senha[i\u001b[38;5;241m-\u001b[39m\u001b[38;5;241m1\u001b[39m], \u001b[38;5;28mstr\u001b[39m) \u001b[38;5;129;01mand\u001b[39;00m \u001b[38;5;28misinstance\u001b[39m(senha[i\u001b[38;5;241m-\u001b[39m\u001b[38;5;241m2\u001b[39m], \u001b[38;5;28mstr\u001b[39m):\n\u001b[1;32m---> 42\u001b[0m     \u001b[38;5;28;01mraise\u001b[39;00m \u001b[38;5;167;01mException\u001b[39;00m(\u001b[38;5;124m\"\u001b[39m\u001b[38;5;124mSenha não pode conter sequência de letras\u001b[39m\u001b[38;5;124m\"\u001b[39m)\n\u001b[0;32m     43\u001b[0m \u001b[38;5;28;01mreturn\u001b[39;00m senha\n",
      "\u001b[1;31mException\u001b[0m: Senha não pode conter sequência de letras"
     ]
    }
   ],
   "source": [
    "safesenhas(10)"
   ]
  },
  {
   "cell_type": "code",
   "execution_count": 7,
   "metadata": {},
   "outputs": [],
   "source": [
    "from random import randint, choice\n",
    "import string\n",
    "\n",
    "def safesenhas(size):\n",
    "    \n",
    "    if size < 4:\n",
    "        raise Exception(\"Tamanho da senha deve ser maior ou igual a 8\")\n",
    "    senha = []\n",
    "    low_alphabet = list(string.ascii_lowercase)\n",
    "    upper_alphabet = list(string.ascii_uppercase)\n",
    "    characters = list('#$%&\\'()*+,-./:;<=>?@')\n",
    "    numbers = [i for i in range(10)]\n",
    "    for i in range(size):\n",
    "        turn = choice(['low','upper','number','chara'])\n",
    "        if turn == 'low':\n",
    "            senha.append(choice(low_alphabet))\n",
    "        elif turn == 'upper':\n",
    "            senha.append(choice(upper_alphabet))\n",
    "        elif turn == 'number':\n",
    "            senha.append(choice(numbers))\n",
    "        else:\n",
    "            senha.append(choice(characters))\n",
    "    \n",
    "    if not any(isinstance(n, int) for n in senha):\n",
    "        raise Exception(\"A senha deve ter pelo menos um número\")\n",
    "    has_lowercase = False\n",
    "    has_uppercase = False\n",
    "    for c in senha:\n",
    "        if c in low_alphabet:\n",
    "            has_lowercase = True\n",
    "        elif c in upper_alphabet:\n",
    "            has_uppercase = True\n",
    "    \n",
    "    if not (has_lowercase and has_uppercase):\n",
    "        raise Exception(\"A senha deve conter pelo menos uma letra minúscula e uma letra maiúscula\")\n",
    "    if len(senha) != len(set(senha)):\n",
    "        print(\"Senha contém caracteres repetidos\")\n",
    "    for i in range(2, size):        \n",
    "       if isinstance(senha[i], int) and isinstance(senha[i-1], int) and isinstance(senha[i-2], int):\n",
    "        print(\"Senha não pode conter sequência de números\")\n",
    "       if isinstance(senha[i], str) and isinstance(senha[i-1], str) and isinstance(senha[i-2], str):\n",
    "        print(\"Senha não pode conter sequência de letras\")\n",
    "    return senha"
   ]
  },
  {
   "cell_type": "code",
   "execution_count": 8,
   "metadata": {},
   "outputs": [
    {
     "name": "stdout",
     "output_type": "stream",
     "text": [
      "Senha não pode conter sequência de letras\n"
     ]
    },
    {
     "data": {
      "text/plain": [
       "[6, 'p', '<', 's', 1, 'V', 'O', 4, 'a', 'x']"
      ]
     },
     "execution_count": 8,
     "metadata": {},
     "output_type": "execute_result"
    }
   ],
   "source": [
    "safesenhas(10)"
   ]
  }
 ],
 "metadata": {
  "kernelspec": {
   "display_name": "Python 3",
   "language": "python",
   "name": "python3"
  },
  "language_info": {
   "codemirror_mode": {
    "name": "ipython",
    "version": 3
   },
   "file_extension": ".py",
   "mimetype": "text/x-python",
   "name": "python",
   "nbconvert_exporter": "python",
   "pygments_lexer": "ipython3",
   "version": "3.12.0"
  }
 },
 "nbformat": 4,
 "nbformat_minor": 2
}
